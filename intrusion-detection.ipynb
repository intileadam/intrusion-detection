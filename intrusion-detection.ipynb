{
 "cells": [
  {
   "cell_type": "markdown",
   "id": "a825e1ff",
   "metadata": {},
   "source": [
    "# Detecting intrusion using login data"
   ]
  },
  {
   "cell_type": "markdown",
   "id": "906e24ff",
   "metadata": {},
   "source": [
    "Using logistic regression, I aim to predict whether login attempts are malicious. Based on the accuracy of the result, I will also explore whether thresholds should be set to balance security with user experience (such as requiring MFA vs blocking the login attempt altogether)"
   ]
  },
  {
   "cell_type": "code",
   "execution_count": null,
   "id": "19fa098a",
   "metadata": {},
   "outputs": [],
   "source": []
  }
 ],
 "metadata": {
  "language_info": {
   "name": "python"
  }
 },
 "nbformat": 4,
 "nbformat_minor": 5
}
